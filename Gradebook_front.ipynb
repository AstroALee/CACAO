{
 "cells": [
  {
   "cell_type": "markdown",
   "id": "12fbd49a",
   "metadata": {},
   "source": [
    "# Canvas Grade book\n",
    "\n",
    "Author: Aaron T. Lee\n",
    "\n",
    "Created: May 2025\n",
    "\n",
    "For use with Canvas grade book CSV files. \n",
    "\n",
    "Dependencies: ASPEN repo\n",
    "\n"
   ]
  },
  {
   "cell_type": "code",
   "execution_count": null,
   "id": "d9444506",
   "metadata": {},
   "outputs": [],
   "source": [
    "# Import Me\n",
    "import numpy as np\n",
    "import pandas as pd\n",
    "\n",
    "\n",
    "# Gradebook related modules\n",
    "import CACAO_Globals as CG\n",
    "\n",
    "# Class-specific data (Adjust this to the appropriate class)\n",
    "import Class_Data.Physics110_Spring2025 as class_data\n",
    "\n",
    "# Raw gradebook file \n",
    "gbook_fname = './Gradebook_Files/Physics110_Spring2025_Final.csv'\n",
    "\n",
    "# Look at the columns in the gradebook for setup \n",
    "if True:\n",
    "\n",
    "    # Global versioned \n",
    "    global_versioned = {\n",
    "        \"student_name\" : CG.student_name,\n",
    "        \"student_id\" : CG.student_id,\n",
    "        \"points_possible\" : CG.points_possible,\n",
    "        \"row_removes\" : CG.row_removes,\n",
    "        \"split_name\" : CG.split_name,\n",
    "    }\n",
    "\n",
    "    # Create the gradebook object\n",
    "    gbook = CG.Gradebook(gbook_fname, class_data.metadata, class_data.assignment_categories, global_versioned)\n",
    "\n",
    "    # Calculate grades \n",
    "    gbook.calculate_grades(class_data.letter_grades) \n",
    "\n",
    "    # Save the gradebook\n",
    "    gbook.gbook.to_csv('./Gradebook_Files/' + gbook.class_metadata['output_gbook_fname'], index=False)\n",
    "\n",
    "else:\n",
    "    gbook = pd.read_csv(gbook_fname)\n",
    "\n",
    "    # List the columns in the gradebook\n",
    "    print(\"Gradebook columns:\")\n",
    "    for col in gbook.columns:\n",
    "        print(col)\n",
    "\n",
    "    print(\"\\n\\nGradebook rows using first column:\")\n",
    "    print(gbook[gbook.columns[0]]) \n",
    "\n",
    "    del gbook \n"
   ]
  },
  {
   "cell_type": "code",
   "execution_count": null,
   "id": "87459c35",
   "metadata": {},
   "outputs": [],
   "source": [
    "student_info = gbook.global_versioned[\"student_name\"][gbook.version] + [gbook.global_versioned[\"student_id\"][gbook.version]]\n",
    "totals = gbook.totals_columns\n",
    "c_totals = gbook.course_columns\n",
    "\n",
    "gbook.gbook[student_info]\n",
    "\n",
    "gbook.gbook[student_info + c_totals].map(lambda x: round(x, 2) if isinstance(x, (int, float, np.number)) else x)\n",
    "\n",
    "gbook.gbook[student_info + totals + c_totals].map(lambda x: round(x, 2) if isinstance(x, (int, float, np.number)) else x).sort_values(by='Course Total', ascending=False, inplace=False)\n",
    "\n",
    "#gbook.gbook[['Last','Course Total','Letter Grade','Grade Boundary','Notes']].map(lambda x: round(x, 2) if isinstance(x, (int, float, np.number)) else x)\n",
    "\n",
    "# Get category items \n",
    "#gbook.gbook[student_info + CG.get_category_items(gbook,'Quizzes') + c_totals]\n"
   ]
  },
  {
   "cell_type": "code",
   "execution_count": null,
   "id": "f7280695",
   "metadata": {},
   "outputs": [],
   "source": [
    "gbook.gbook['Letter Grade'].value_counts()\n",
    "\n",
    "#gbook.gbook[['Last','First']][gbook.gbook['Letter Grade'] == 'A']\n",
    "\n",
    "\n",
    "# =-=-=-=-\n",
    "\n",
    "numA = len(gbook.gbook[['Last', 'First','Letter Grade']][gbook.gbook['Letter Grade'].isin(['A+', 'A', 'A-'])])\n",
    "numB = len(gbook.gbook[['Last', 'First','Letter Grade']][gbook.gbook['Letter Grade'].isin(['B+', 'B', 'B-'])])\n",
    "numC = len(gbook.gbook[['Last', 'First','Letter Grade']][gbook.gbook['Letter Grade'].isin(['C+', 'C', 'C-'])])\n",
    "numD = len(gbook.gbook[['Last', 'First','Letter Grade']][gbook.gbook['Letter Grade'].isin(['D+', 'D', 'D-'])])\n",
    "numF = len(gbook.gbook[['Last', 'First','Letter Grade']][gbook.gbook['Letter Grade'].isin(['F'])])\n",
    "\n",
    "numStudents = len(gbook.gbook)\n",
    "\n",
    "print(f'A grades: {numA}, B grades: {numB}, C grades: {numC}, D grades: {numD}, F grades: {numF}')\n",
    "print(f'A grades: {numA/numStudents:.2f}, B grades: {numB/numStudents:.2f}, C grades: {numC/numStudents:.2f}, D grades: {numD/numStudents:.2f}, F grades: {numF/numStudents:.2f}')\n",
    "\n",
    "# =-=-=-=-=-=-\n",
    "\n",
    "gbook.gbook[['Last', 'First','Letter Grade']][gbook.gbook['Letter Grade'].isin(['A', 'A-'])]\n",
    "#gbook.gbook[['Last', 'First','Letter Grade']][gbook.gbook['Letter Grade'].isin(['B+', 'B', 'B-'])]\n",
    "#gbook.gbook[['Last', 'First','Letter Grade']][gbook.gbook['Letter Grade'].isin(['C+', 'C', 'C-'])]\n"
   ]
  },
  {
   "cell_type": "code",
   "execution_count": null,
   "id": "13b612fa",
   "metadata": {},
   "outputs": [],
   "source": [
    "gbook.class_assignment_categories['Quizzes']['items']"
   ]
  }
 ],
 "metadata": {
  "kernelspec": {
   "display_name": "base",
   "language": "python",
   "name": "python3"
  },
  "language_info": {
   "codemirror_mode": {
    "name": "ipython",
    "version": 3
   },
   "file_extension": ".py",
   "mimetype": "text/x-python",
   "name": "python",
   "nbconvert_exporter": "python",
   "pygments_lexer": "ipython3",
   "version": "3.12.7"
  }
 },
 "nbformat": 4,
 "nbformat_minor": 5
}
